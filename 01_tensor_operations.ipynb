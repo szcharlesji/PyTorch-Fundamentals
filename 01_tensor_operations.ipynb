{
 "cells": [
  {
   "cell_type": "markdown",
   "source": [
    "# Operations"
   ],
   "metadata": {
    "collapsed": false
   }
  },
  {
   "cell_type": "markdown",
   "source": [
    "- Addition\n",
    "- Subtraction\n",
    "- Element-wise Multiplication\n",
    "- Division\n",
    "- Matrix Multiplication"
   ],
   "metadata": {
    "collapsed": false
   }
  },
  {
   "cell_type": "code",
   "execution_count": 2,
   "outputs": [
    {
     "name": "stdout",
     "output_type": "stream",
     "text": [
      "2.0.1\n"
     ]
    }
   ],
   "source": [
    "import torch\n",
    "import pandas as pd\n",
    "import numpy as np\n",
    "import matplotlib.pyplot as plt\n",
    "print(torch.__version__)"
   ],
   "metadata": {
    "collapsed": false,
    "ExecuteTime": {
     "end_time": "2023-05-25T23:38:14.373568Z",
     "start_time": "2023-05-25T23:38:13.327995Z"
    }
   }
  },
  {
   "cell_type": "code",
   "execution_count": 4,
   "outputs": [
    {
     "data": {
      "text/plain": "tensor([[[0.3558, 0.1775, 0.8110, 0.9356, 0.7801],\n         [0.4146, 0.4993, 0.1294, 0.7811, 0.0459],\n         [0.1024, 0.8436, 0.9769, 0.2030, 0.2200],\n         [0.4412, 0.8271, 0.6806, 0.0731, 0.7362]],\n\n        [[0.8359, 0.1613, 0.6560, 0.6826, 0.3888],\n         [0.9157, 0.1422, 0.2341, 0.2477, 0.2091],\n         [0.5491, 0.4770, 0.4849, 0.7461, 0.8457],\n         [0.3041, 0.6404, 0.6863, 0.5203, 0.9443]],\n\n        [[0.2502, 0.6990, 0.0035, 0.2984, 0.4060],\n         [0.0477, 0.8848, 0.3617, 0.4971, 0.9303],\n         [0.9958, 0.2873, 0.3423, 0.5845, 0.8459],\n         [0.8508, 0.4319, 0.8752, 0.6074, 0.6130]]])"
     },
     "execution_count": 4,
     "metadata": {},
     "output_type": "execute_result"
    }
   ],
   "source": [
    "tensor = torch.rand(size=(3,4,5))\n",
    "tensor"
   ],
   "metadata": {
    "collapsed": false,
    "ExecuteTime": {
     "end_time": "2023-05-25T23:40:19.723434Z",
     "start_time": "2023-05-25T23:40:19.716086Z"
    }
   }
  },
  {
   "cell_type": "code",
   "execution_count": 5,
   "outputs": [
    {
     "data": {
      "text/plain": "tensor([[[35.5800, 17.7512, 81.1012, 93.5644, 78.0080],\n         [41.4626, 49.9344, 12.9411, 78.1144,  4.5870],\n         [10.2423, 84.3629, 97.6887, 20.3050, 22.0006],\n         [44.1183, 82.7086, 68.0624,  7.3060, 73.6208]],\n\n        [[83.5902, 16.1323, 65.5981, 68.2611, 38.8825],\n         [91.5654, 14.2179, 23.4130, 24.7709, 20.9055],\n         [54.9094, 47.7008, 48.4872, 74.6073, 84.5737],\n         [30.4137, 64.0367, 68.6312, 52.0301, 94.4330]],\n\n        [[25.0187, 69.9021,  0.3507, 29.8418, 40.6001],\n         [ 4.7720, 88.4822, 36.1675, 49.7138, 93.0304],\n         [99.5845, 28.7341, 34.2266, 58.4529, 84.5891],\n         [85.0829, 43.1904, 87.5193, 60.7385, 61.2973]]])"
     },
     "execution_count": 5,
     "metadata": {},
     "output_type": "execute_result"
    }
   ],
   "source": [
    "tensor * 100"
   ],
   "metadata": {
    "collapsed": false,
    "ExecuteTime": {
     "end_time": "2023-05-25T23:40:36.610638Z",
     "start_time": "2023-05-25T23:40:36.605572Z"
    }
   }
  },
  {
   "cell_type": "code",
   "execution_count": 6,
   "outputs": [
    {
     "data": {
      "text/plain": "tensor([[[1.2659e-01, 3.1510e-02, 6.5774e-01, 8.7543e-01, 6.0853e-01],\n         [1.7192e-01, 2.4934e-01, 1.6747e-02, 6.1019e-01, 2.1041e-03],\n         [1.0491e-02, 7.1171e-01, 9.5431e-01, 4.1229e-02, 4.8403e-02],\n         [1.9464e-01, 6.8407e-01, 4.6325e-01, 5.3378e-03, 5.4200e-01]],\n\n        [[6.9873e-01, 2.6025e-02, 4.3031e-01, 4.6596e-01, 1.5118e-01],\n         [8.3842e-01, 2.0215e-02, 5.4817e-02, 6.1360e-02, 4.3704e-02],\n         [3.0150e-01, 2.2754e-01, 2.3510e-01, 5.5663e-01, 7.1527e-01],\n         [9.2499e-02, 4.1007e-01, 4.7102e-01, 2.7071e-01, 8.9176e-01]],\n\n        [[6.2594e-02, 4.8863e-01, 1.2296e-05, 8.9053e-02, 1.6484e-01],\n         [2.2772e-03, 7.8291e-01, 1.3081e-01, 2.4715e-01, 8.6547e-01],\n         [9.9171e-01, 8.2565e-02, 1.1715e-01, 3.4167e-01, 7.1553e-01],\n         [7.2391e-01, 1.8654e-01, 7.6596e-01, 3.6892e-01, 3.7574e-01]]])"
     },
     "execution_count": 6,
     "metadata": {},
     "output_type": "execute_result"
    }
   ],
   "source": [
    "tensor * tensor"
   ],
   "metadata": {
    "collapsed": false,
    "ExecuteTime": {
     "end_time": "2023-05-25T23:40:42.356092Z",
     "start_time": "2023-05-25T23:40:42.353576Z"
    }
   }
  },
  {
   "cell_type": "code",
   "execution_count": 7,
   "outputs": [
    {
     "data": {
      "text/plain": "tensor([[[-0.6442, -0.8225, -0.1890, -0.0644, -0.2199],\n         [-0.5854, -0.5007, -0.8706, -0.2189, -0.9541],\n         [-0.8976, -0.1564, -0.0231, -0.7970, -0.7800],\n         [-0.5588, -0.1729, -0.3194, -0.9269, -0.2638]],\n\n        [[-0.1641, -0.8387, -0.3440, -0.3174, -0.6112],\n         [-0.0843, -0.8578, -0.7659, -0.7523, -0.7909],\n         [-0.4509, -0.5230, -0.5151, -0.2539, -0.1543],\n         [-0.6959, -0.3596, -0.3137, -0.4797, -0.0557]],\n\n        [[-0.7498, -0.3010, -0.9965, -0.7016, -0.5940],\n         [-0.9523, -0.1152, -0.6383, -0.5029, -0.0697],\n         [-0.0042, -0.7127, -0.6577, -0.4155, -0.1541],\n         [-0.1492, -0.5681, -0.1248, -0.3926, -0.3870]]])"
     },
     "execution_count": 7,
     "metadata": {},
     "output_type": "execute_result"
    }
   ],
   "source": [
    "tensor - 1"
   ],
   "metadata": {
    "collapsed": false,
    "ExecuteTime": {
     "end_time": "2023-05-25T23:41:12.840489Z",
     "start_time": "2023-05-25T23:41:12.836639Z"
    }
   }
  },
  {
   "cell_type": "code",
   "execution_count": 8,
   "outputs": [
    {
     "data": {
      "text/plain": "tensor([[[3.5580, 1.7751, 8.1101, 9.3564, 7.8008],\n         [4.1463, 4.9934, 1.2941, 7.8114, 0.4587],\n         [1.0242, 8.4363, 9.7689, 2.0305, 2.2001],\n         [4.4118, 8.2709, 6.8062, 0.7306, 7.3621]],\n\n        [[8.3590, 1.6132, 6.5598, 6.8261, 3.8883],\n         [9.1565, 1.4218, 2.3413, 2.4771, 2.0906],\n         [5.4909, 4.7701, 4.8487, 7.4607, 8.4574],\n         [3.0414, 6.4037, 6.8631, 5.2030, 9.4433]],\n\n        [[2.5019, 6.9902, 0.0351, 2.9842, 4.0600],\n         [0.4772, 8.8482, 3.6167, 4.9714, 9.3030],\n         [9.9584, 2.8734, 3.4227, 5.8453, 8.4589],\n         [8.5083, 4.3190, 8.7519, 6.0739, 6.1297]]])"
     },
     "execution_count": 8,
     "metadata": {},
     "output_type": "execute_result"
    }
   ],
   "source": [
    "tensor.mul(10)"
   ],
   "metadata": {
    "collapsed": false,
    "ExecuteTime": {
     "end_time": "2023-05-25T23:41:39.582466Z",
     "start_time": "2023-05-25T23:41:39.578607Z"
    }
   }
  },
  {
   "cell_type": "code",
   "execution_count": 9,
   "outputs": [
    {
     "data": {
      "text/plain": "tensor([[[3.5580, 1.7751, 8.1101, 9.3564, 7.8008],\n         [4.1463, 4.9934, 1.2941, 7.8114, 0.4587],\n         [1.0242, 8.4363, 9.7689, 2.0305, 2.2001],\n         [4.4118, 8.2709, 6.8062, 0.7306, 7.3621]],\n\n        [[8.3590, 1.6132, 6.5598, 6.8261, 3.8883],\n         [9.1565, 1.4218, 2.3413, 2.4771, 2.0906],\n         [5.4909, 4.7701, 4.8487, 7.4607, 8.4574],\n         [3.0414, 6.4037, 6.8631, 5.2030, 9.4433]],\n\n        [[2.5019, 6.9902, 0.0351, 2.9842, 4.0600],\n         [0.4772, 8.8482, 3.6167, 4.9714, 9.3030],\n         [9.9584, 2.8734, 3.4227, 5.8453, 8.4589],\n         [8.5083, 4.3190, 8.7519, 6.0739, 6.1297]]])"
     },
     "execution_count": 9,
     "metadata": {},
     "output_type": "execute_result"
    }
   ],
   "source": [
    "torch.mul(tensor, 10)"
   ],
   "metadata": {
    "collapsed": false,
    "ExecuteTime": {
     "end_time": "2023-05-25T23:41:57.517758Z",
     "start_time": "2023-05-25T23:41:57.514582Z"
    }
   }
  },
  {
   "cell_type": "markdown",
   "source": [
    "## Matrix Multiplication"
   ],
   "metadata": {
    "collapsed": false
   }
  },
  {
   "cell_type": "code",
   "execution_count": 14,
   "outputs": [
    {
     "data": {
      "text/plain": "(tensor([[0.9794, 0.4698, 0.2823],\n         [0.7693, 0.1070, 0.9812],\n         [0.4702, 0.6696, 0.7954]]),\n tensor([[0.4387, 0.2362, 0.5653],\n         [0.4518, 0.9419, 0.3153],\n         [0.0279, 0.2340, 0.9786]]))"
     },
     "execution_count": 14,
     "metadata": {},
     "output_type": "execute_result"
    }
   ],
   "source": [
    "matrix1 = torch.rand(size=(3,3))\n",
    "matrix2 = torch.rand(size=(3,3))\n",
    "matrix1, matrix2"
   ],
   "metadata": {
    "collapsed": false,
    "ExecuteTime": {
     "end_time": "2023-05-25T23:46:51.818755Z",
     "start_time": "2023-05-25T23:46:51.815988Z"
    }
   }
  },
  {
   "cell_type": "code",
   "execution_count": 15,
   "outputs": [
    {
     "data": {
      "text/plain": "tensor([[0.6498, 0.7399, 0.9780],\n        [0.4132, 0.5121, 1.4288],\n        [0.5310, 0.9279, 1.2553]])"
     },
     "execution_count": 15,
     "metadata": {},
     "output_type": "execute_result"
    }
   ],
   "source": [
    "torch.matmul(matrix1, matrix2)"
   ],
   "metadata": {
    "collapsed": false,
    "ExecuteTime": {
     "end_time": "2023-05-25T23:47:21.771219Z",
     "start_time": "2023-05-25T23:47:21.767688Z"
    }
   }
  },
  {
   "cell_type": "code",
   "execution_count": 16,
   "outputs": [
    {
     "data": {
      "text/plain": "tensor([[0.8772, 0.6099, 0.8052],\n        [1.3153, 0.5242, 1.3026],\n        [0.6675, 0.6934, 1.0158]])"
     },
     "execution_count": 16,
     "metadata": {},
     "output_type": "execute_result"
    }
   ],
   "source": [
    "torch.matmul(matrix2, matrix1)"
   ],
   "metadata": {
    "collapsed": false,
    "ExecuteTime": {
     "end_time": "2023-05-25T23:47:44.353596Z",
     "start_time": "2023-05-25T23:47:44.350497Z"
    }
   }
  },
  {
   "cell_type": "code",
   "execution_count": 24,
   "outputs": [
    {
     "data": {
      "text/plain": "tensor([[0.9794, 0.4698],\n        [0.7693, 0.1070],\n        [0.4702, 0.6696]])"
     },
     "execution_count": 24,
     "metadata": {},
     "output_type": "execute_result"
    }
   ],
   "source": [
    "three_by_two_mat = matrix1[:, :2]\n",
    "three_by_two_mat"
   ],
   "metadata": {
    "collapsed": false,
    "ExecuteTime": {
     "end_time": "2023-05-26T00:07:25.203814Z",
     "start_time": "2023-05-26T00:07:25.201442Z"
    }
   }
  },
  {
   "cell_type": "code",
   "execution_count": 25,
   "outputs": [
    {
     "data": {
      "text/plain": "tensor([[1.1799, 0.8037, 0.7751],\n        [0.8037, 0.6033, 0.4334],\n        [0.7751, 0.4334, 0.6696]])"
     },
     "execution_count": 25,
     "metadata": {},
     "output_type": "execute_result"
    }
   ],
   "source": [
    "torch.mm(three_by_two_mat, three_by_two_mat.T)"
   ],
   "metadata": {
    "collapsed": false,
    "ExecuteTime": {
     "end_time": "2023-05-26T00:07:46.939999Z",
     "start_time": "2023-05-26T00:07:46.935810Z"
    }
   }
  },
  {
   "cell_type": "code",
   "execution_count": 26,
   "outputs": [
    {
     "data": {
      "text/plain": "tensor([[1.7721, 0.8573],\n        [0.8573, 0.6806]])"
     },
     "execution_count": 26,
     "metadata": {},
     "output_type": "execute_result"
    }
   ],
   "source": [
    "torch.mm(three_by_two_mat.T, three_by_two_mat)"
   ],
   "metadata": {
    "collapsed": false,
    "ExecuteTime": {
     "end_time": "2023-05-26T00:07:55.814079Z",
     "start_time": "2023-05-26T00:07:55.810416Z"
    }
   }
  },
  {
   "cell_type": "code",
   "execution_count": 27,
   "outputs": [
    {
     "data": {
      "text/plain": "torch.Size([3, 2])"
     },
     "execution_count": 27,
     "metadata": {},
     "output_type": "execute_result"
    }
   ],
   "source": [
    "three_by_two_mat.shape"
   ],
   "metadata": {
    "collapsed": false,
    "ExecuteTime": {
     "end_time": "2023-05-26T00:09:01.066209Z",
     "start_time": "2023-05-26T00:09:01.062496Z"
    }
   }
  },
  {
   "cell_type": "code",
   "execution_count": 28,
   "outputs": [
    {
     "data": {
      "text/plain": "torch.Size([2, 3])"
     },
     "execution_count": 28,
     "metadata": {},
     "output_type": "execute_result"
    }
   ],
   "source": [
    "three_by_two_mat.T.shape"
   ],
   "metadata": {
    "collapsed": false,
    "ExecuteTime": {
     "end_time": "2023-05-26T00:09:06.388202Z",
     "start_time": "2023-05-26T00:09:06.383423Z"
    }
   }
  },
  {
   "cell_type": "code",
   "execution_count": 29,
   "outputs": [
    {
     "data": {
      "text/plain": "tensor([[0.9794, 0.7693, 0.4702],\n        [0.4698, 0.1070, 0.6696]])"
     },
     "execution_count": 29,
     "metadata": {},
     "output_type": "execute_result"
    }
   ],
   "source": [
    "three_by_two_mat.T.T.T.T.T"
   ],
   "metadata": {
    "collapsed": false,
    "ExecuteTime": {
     "end_time": "2023-05-26T00:09:11.448226Z",
     "start_time": "2023-05-26T00:09:11.443067Z"
    }
   }
  },
  {
   "cell_type": "code",
   "execution_count": null,
   "outputs": [],
   "source": [],
   "metadata": {
    "collapsed": false
   }
  }
 ],
 "metadata": {
  "kernelspec": {
   "display_name": "Python 3",
   "language": "python",
   "name": "python3"
  },
  "language_info": {
   "codemirror_mode": {
    "name": "ipython",
    "version": 2
   },
   "file_extension": ".py",
   "mimetype": "text/x-python",
   "name": "python",
   "nbconvert_exporter": "python",
   "pygments_lexer": "ipython2",
   "version": "2.7.6"
  }
 },
 "nbformat": 4,
 "nbformat_minor": 0
}
