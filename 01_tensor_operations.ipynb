{
 "cells": [
  {
   "cell_type": "markdown",
   "metadata": {
    "collapsed": false
   },
   "source": [
    "# Operations"
   ]
  },
  {
   "cell_type": "markdown",
   "metadata": {
    "collapsed": false
   },
   "source": [
    "- Addition\n",
    "- Subtraction\n",
    "- Element-wise Multiplication\n",
    "- Division\n",
    "- Matrix Multiplication"
   ]
  },
  {
   "cell_type": "code",
   "execution_count": 2,
   "metadata": {
    "ExecuteTime": {
     "end_time": "2023-05-25T23:38:14.373568Z",
     "start_time": "2023-05-25T23:38:13.327995Z"
    },
    "collapsed": false
   },
   "outputs": [
    {
     "name": "stdout",
     "output_type": "stream",
     "text": [
      "2.0.1\n"
     ]
    }
   ],
   "source": [
    "import torch\n",
    "import pandas as pd\n",
    "import numpy as np\n",
    "import matplotlib.pyplot as plt\n",
    "print(torch.__version__)"
   ]
  },
  {
   "cell_type": "code",
   "execution_count": 3,
   "metadata": {
    "ExecuteTime": {
     "end_time": "2023-05-25T23:40:19.723434Z",
     "start_time": "2023-05-25T23:40:19.716086Z"
    },
    "collapsed": false
   },
   "outputs": [
    {
     "data": {
      "text/plain": [
       "tensor([[[0.2818, 0.1495, 0.5517, 0.5402, 0.7517],\n",
       "         [0.6338, 0.3160, 0.9374, 0.1699, 0.5597],\n",
       "         [0.2821, 0.1154, 0.1507, 0.3532, 0.7151],\n",
       "         [0.2274, 0.1539, 0.4514, 0.0427, 0.0183]],\n",
       "\n",
       "        [[0.5463, 0.9786, 0.4834, 0.0113, 0.4004],\n",
       "         [0.2662, 0.8555, 0.0201, 0.7162, 0.6784],\n",
       "         [0.4875, 0.1879, 0.2830, 0.0108, 0.8607],\n",
       "         [0.1719, 0.1460, 0.6601, 0.2030, 0.0802]],\n",
       "\n",
       "        [[0.5703, 0.1553, 0.1959, 0.5292, 0.9920],\n",
       "         [0.8247, 0.7057, 0.9439, 0.1518, 0.9944],\n",
       "         [0.4888, 0.4425, 0.4058, 0.3256, 0.9304],\n",
       "         [0.0789, 0.8259, 0.3209, 0.1082, 0.9269]]])"
      ]
     },
     "execution_count": 3,
     "metadata": {},
     "output_type": "execute_result"
    }
   ],
   "source": [
    "tensor = torch.rand(size=(3,4,5))\n",
    "tensor"
   ]
  },
  {
   "cell_type": "code",
   "execution_count": 4,
   "metadata": {
    "ExecuteTime": {
     "end_time": "2023-05-25T23:40:36.610638Z",
     "start_time": "2023-05-25T23:40:36.605572Z"
    },
    "collapsed": false
   },
   "outputs": [
    {
     "data": {
      "text/plain": [
       "tensor([[[28.1808, 14.9467, 55.1660, 54.0202, 75.1680],\n",
       "         [63.3847, 31.5961, 93.7363, 16.9909, 55.9736],\n",
       "         [28.2126, 11.5416, 15.0730, 35.3235, 71.5148],\n",
       "         [22.7366, 15.3936, 45.1448,  4.2681,  1.8292]],\n",
       "\n",
       "        [[54.6286, 97.8624, 48.3448,  1.1279, 40.0354],\n",
       "         [26.6205, 85.5493,  2.0102, 71.6158, 67.8411],\n",
       "         [48.7492, 18.7912, 28.3002,  1.0756, 86.0687],\n",
       "         [17.1928, 14.5994, 66.0090, 20.2976,  8.0246]],\n",
       "\n",
       "        [[57.0297, 15.5324, 19.5921, 52.9175, 99.2014],\n",
       "         [82.4737, 70.5730, 94.3929, 15.1798, 99.4351],\n",
       "         [48.8771, 44.2503, 40.5807, 32.5571, 93.0442],\n",
       "         [ 7.8883, 82.5874, 32.0938, 10.8233, 92.6937]]])"
      ]
     },
     "execution_count": 4,
     "metadata": {},
     "output_type": "execute_result"
    }
   ],
   "source": [
    "tensor * 100"
   ]
  },
  {
   "cell_type": "code",
   "execution_count": 5,
   "metadata": {
    "ExecuteTime": {
     "end_time": "2023-05-25T23:40:42.356092Z",
     "start_time": "2023-05-25T23:40:42.353576Z"
    },
    "collapsed": false
   },
   "outputs": [
    {
     "data": {
      "text/plain": [
       "tensor([[[7.9416e-02, 2.2340e-02, 3.0433e-01, 2.9182e-01, 5.6502e-01],\n",
       "         [4.0176e-01, 9.9832e-02, 8.7865e-01, 2.8869e-02, 3.1330e-01],\n",
       "         [7.9595e-02, 1.3321e-02, 2.2719e-02, 1.2478e-01, 5.1144e-01],\n",
       "         [5.1695e-02, 2.3696e-02, 2.0381e-01, 1.8217e-03, 3.3461e-04]],\n",
       "\n",
       "        [[2.9843e-01, 9.5771e-01, 2.3372e-01, 1.2721e-04, 1.6028e-01],\n",
       "         [7.0865e-02, 7.3187e-01, 4.0410e-04, 5.1288e-01, 4.6024e-01],\n",
       "         [2.3765e-01, 3.5311e-02, 8.0090e-02, 1.1569e-04, 7.4078e-01],\n",
       "         [2.9559e-02, 2.1314e-02, 4.3572e-01, 4.1199e-02, 6.4394e-03]],\n",
       "\n",
       "        [[3.2524e-01, 2.4125e-02, 3.8385e-02, 2.8003e-01, 9.8409e-01],\n",
       "         [6.8019e-01, 4.9805e-01, 8.9100e-01, 2.3043e-02, 9.8873e-01],\n",
       "         [2.3890e-01, 1.9581e-01, 1.6468e-01, 1.0600e-01, 8.6572e-01],\n",
       "         [6.2225e-03, 6.8207e-01, 1.0300e-01, 1.1714e-02, 8.5921e-01]]])"
      ]
     },
     "execution_count": 5,
     "metadata": {},
     "output_type": "execute_result"
    }
   ],
   "source": [
    "tensor * tensor"
   ]
  },
  {
   "cell_type": "code",
   "execution_count": 6,
   "metadata": {
    "ExecuteTime": {
     "end_time": "2023-05-25T23:41:12.840489Z",
     "start_time": "2023-05-25T23:41:12.836639Z"
    },
    "collapsed": false
   },
   "outputs": [
    {
     "data": {
      "text/plain": [
       "tensor([[[-0.7182, -0.8505, -0.4483, -0.4598, -0.2483],\n",
       "         [-0.3662, -0.6840, -0.0626, -0.8301, -0.4403],\n",
       "         [-0.7179, -0.8846, -0.8493, -0.6468, -0.2849],\n",
       "         [-0.7726, -0.8461, -0.5486, -0.9573, -0.9817]],\n",
       "\n",
       "        [[-0.4537, -0.0214, -0.5166, -0.9887, -0.5996],\n",
       "         [-0.7338, -0.1445, -0.9799, -0.2838, -0.3216],\n",
       "         [-0.5125, -0.8121, -0.7170, -0.9892, -0.1393],\n",
       "         [-0.8281, -0.8540, -0.3399, -0.7970, -0.9198]],\n",
       "\n",
       "        [[-0.4297, -0.8447, -0.8041, -0.4708, -0.0080],\n",
       "         [-0.1753, -0.2943, -0.0561, -0.8482, -0.0056],\n",
       "         [-0.5112, -0.5575, -0.5942, -0.6744, -0.0696],\n",
       "         [-0.9211, -0.1741, -0.6791, -0.8918, -0.0731]]])"
      ]
     },
     "execution_count": 6,
     "metadata": {},
     "output_type": "execute_result"
    }
   ],
   "source": [
    "tensor - 1"
   ]
  },
  {
   "cell_type": "code",
   "execution_count": 7,
   "metadata": {
    "ExecuteTime": {
     "end_time": "2023-05-25T23:41:39.582466Z",
     "start_time": "2023-05-25T23:41:39.578607Z"
    },
    "collapsed": false
   },
   "outputs": [
    {
     "data": {
      "text/plain": [
       "tensor([[[2.8181, 1.4947, 5.5166, 5.4020, 7.5168],\n",
       "         [6.3385, 3.1596, 9.3736, 1.6991, 5.5974],\n",
       "         [2.8213, 1.1542, 1.5073, 3.5324, 7.1515],\n",
       "         [2.2737, 1.5394, 4.5145, 0.4268, 0.1829]],\n",
       "\n",
       "        [[5.4629, 9.7862, 4.8345, 0.1128, 4.0035],\n",
       "         [2.6620, 8.5549, 0.2010, 7.1616, 6.7841],\n",
       "         [4.8749, 1.8791, 2.8300, 0.1076, 8.6069],\n",
       "         [1.7193, 1.4599, 6.6009, 2.0298, 0.8025]],\n",
       "\n",
       "        [[5.7030, 1.5532, 1.9592, 5.2918, 9.9201],\n",
       "         [8.2474, 7.0573, 9.4393, 1.5180, 9.9435],\n",
       "         [4.8877, 4.4250, 4.0581, 3.2557, 9.3044],\n",
       "         [0.7888, 8.2587, 3.2094, 1.0823, 9.2694]]])"
      ]
     },
     "execution_count": 7,
     "metadata": {},
     "output_type": "execute_result"
    }
   ],
   "source": [
    "tensor.mul(10)"
   ]
  },
  {
   "cell_type": "code",
   "execution_count": 8,
   "metadata": {
    "ExecuteTime": {
     "end_time": "2023-05-25T23:41:57.517758Z",
     "start_time": "2023-05-25T23:41:57.514582Z"
    },
    "collapsed": false
   },
   "outputs": [
    {
     "data": {
      "text/plain": [
       "tensor([[[2.8181, 1.4947, 5.5166, 5.4020, 7.5168],\n",
       "         [6.3385, 3.1596, 9.3736, 1.6991, 5.5974],\n",
       "         [2.8213, 1.1542, 1.5073, 3.5324, 7.1515],\n",
       "         [2.2737, 1.5394, 4.5145, 0.4268, 0.1829]],\n",
       "\n",
       "        [[5.4629, 9.7862, 4.8345, 0.1128, 4.0035],\n",
       "         [2.6620, 8.5549, 0.2010, 7.1616, 6.7841],\n",
       "         [4.8749, 1.8791, 2.8300, 0.1076, 8.6069],\n",
       "         [1.7193, 1.4599, 6.6009, 2.0298, 0.8025]],\n",
       "\n",
       "        [[5.7030, 1.5532, 1.9592, 5.2918, 9.9201],\n",
       "         [8.2474, 7.0573, 9.4393, 1.5180, 9.9435],\n",
       "         [4.8877, 4.4250, 4.0581, 3.2557, 9.3044],\n",
       "         [0.7888, 8.2587, 3.2094, 1.0823, 9.2694]]])"
      ]
     },
     "execution_count": 8,
     "metadata": {},
     "output_type": "execute_result"
    }
   ],
   "source": [
    "torch.mul(tensor, 10)"
   ]
  },
  {
   "cell_type": "markdown",
   "metadata": {
    "collapsed": false
   },
   "source": [
    "## Matrix Multiplication"
   ]
  },
  {
   "cell_type": "code",
   "execution_count": 9,
   "metadata": {
    "ExecuteTime": {
     "end_time": "2023-05-25T23:46:51.818755Z",
     "start_time": "2023-05-25T23:46:51.815988Z"
    },
    "collapsed": false
   },
   "outputs": [
    {
     "data": {
      "text/plain": [
       "(tensor([[0.3731, 0.8996, 0.6252],\n",
       "         [0.0028, 0.4122, 0.9866],\n",
       "         [0.7737, 0.7632, 0.6103]]),\n",
       " tensor([[0.0181, 0.3081, 0.6245],\n",
       "         [0.8243, 0.7089, 0.9967],\n",
       "         [0.5885, 0.7293, 0.9370]]))"
      ]
     },
     "execution_count": 9,
     "metadata": {},
     "output_type": "execute_result"
    }
   ],
   "source": [
    "matrix1 = torch.rand(size=(3,3))\n",
    "matrix2 = torch.rand(size=(3,3))\n",
    "matrix1, matrix2"
   ]
  },
  {
   "cell_type": "code",
   "execution_count": 10,
   "metadata": {
    "ExecuteTime": {
     "end_time": "2023-05-25T23:47:21.771219Z",
     "start_time": "2023-05-25T23:47:21.767688Z"
    },
    "collapsed": false
   },
   "outputs": [
    {
     "data": {
      "text/plain": [
       "tensor([[1.1161, 1.2086, 1.7154],\n",
       "        [0.9204, 1.0126, 1.3371],\n",
       "        [1.0023, 1.2246, 1.8158]])"
      ]
     },
     "execution_count": 10,
     "metadata": {},
     "output_type": "execute_result"
    }
   ],
   "source": [
    "torch.matmul(matrix1, matrix2)"
   ]
  },
  {
   "cell_type": "code",
   "execution_count": 11,
   "metadata": {
    "ExecuteTime": {
     "end_time": "2023-05-25T23:47:44.353596Z",
     "start_time": "2023-05-25T23:47:44.350497Z"
    },
    "collapsed": false
   },
   "outputs": [
    {
     "data": {
      "text/plain": [
       "tensor([[0.4908, 0.6199, 0.6964],\n",
       "        [1.0807, 1.7944, 1.8231],\n",
       "        [0.9466, 1.5451, 1.6593]])"
      ]
     },
     "execution_count": 11,
     "metadata": {},
     "output_type": "execute_result"
    }
   ],
   "source": [
    "torch.matmul(matrix2, matrix1)"
   ]
  },
  {
   "cell_type": "code",
   "execution_count": 12,
   "metadata": {
    "ExecuteTime": {
     "end_time": "2023-05-26T00:07:25.203814Z",
     "start_time": "2023-05-26T00:07:25.201442Z"
    },
    "collapsed": false
   },
   "outputs": [
    {
     "data": {
      "text/plain": [
       "tensor([[0.3731, 0.8996],\n",
       "        [0.0028, 0.4122],\n",
       "        [0.7737, 0.7632]])"
      ]
     },
     "execution_count": 12,
     "metadata": {},
     "output_type": "execute_result"
    }
   ],
   "source": [
    "three_by_two_mat = matrix1[:, :2]\n",
    "three_by_two_mat"
   ]
  },
  {
   "cell_type": "code",
   "execution_count": 13,
   "metadata": {
    "ExecuteTime": {
     "end_time": "2023-05-26T00:07:46.939999Z",
     "start_time": "2023-05-26T00:07:46.935810Z"
    },
    "collapsed": false
   },
   "outputs": [
    {
     "data": {
      "text/plain": [
       "tensor([[0.9484, 0.3718, 0.9753],\n",
       "        [0.3718, 0.1699, 0.3168],\n",
       "        [0.9753, 0.3168, 1.1812]])"
      ]
     },
     "execution_count": 13,
     "metadata": {},
     "output_type": "execute_result"
    }
   ],
   "source": [
    "torch.mm(three_by_two_mat, three_by_two_mat.T)"
   ]
  },
  {
   "cell_type": "code",
   "execution_count": 14,
   "metadata": {
    "ExecuteTime": {
     "end_time": "2023-05-26T00:07:55.814079Z",
     "start_time": "2023-05-26T00:07:55.810416Z"
    },
    "collapsed": false
   },
   "outputs": [
    {
     "data": {
      "text/plain": [
       "tensor([[0.7379, 0.9273],\n",
       "        [0.9273, 1.5616]])"
      ]
     },
     "execution_count": 14,
     "metadata": {},
     "output_type": "execute_result"
    }
   ],
   "source": [
    "torch.mm(three_by_two_mat.T, three_by_two_mat)"
   ]
  },
  {
   "cell_type": "code",
   "execution_count": 15,
   "metadata": {
    "ExecuteTime": {
     "end_time": "2023-05-26T00:09:01.066209Z",
     "start_time": "2023-05-26T00:09:01.062496Z"
    },
    "collapsed": false
   },
   "outputs": [
    {
     "data": {
      "text/plain": [
       "torch.Size([3, 2])"
      ]
     },
     "execution_count": 15,
     "metadata": {},
     "output_type": "execute_result"
    }
   ],
   "source": [
    "three_by_two_mat.shape"
   ]
  },
  {
   "cell_type": "code",
   "execution_count": 16,
   "metadata": {
    "ExecuteTime": {
     "end_time": "2023-05-26T00:09:06.388202Z",
     "start_time": "2023-05-26T00:09:06.383423Z"
    },
    "collapsed": false
   },
   "outputs": [
    {
     "data": {
      "text/plain": [
       "torch.Size([2, 3])"
      ]
     },
     "execution_count": 16,
     "metadata": {},
     "output_type": "execute_result"
    }
   ],
   "source": [
    "three_by_two_mat.T.shape"
   ]
  },
  {
   "cell_type": "code",
   "execution_count": 17,
   "metadata": {
    "ExecuteTime": {
     "end_time": "2023-05-26T00:09:11.448226Z",
     "start_time": "2023-05-26T00:09:11.443067Z"
    },
    "collapsed": false
   },
   "outputs": [
    {
     "data": {
      "text/plain": [
       "tensor([[0.3731, 0.0028, 0.7737],\n",
       "        [0.8996, 0.4122, 0.7632]])"
      ]
     },
     "execution_count": 17,
     "metadata": {},
     "output_type": "execute_result"
    }
   ],
   "source": [
    "three_by_two_mat.T.T.T.T.T"
   ]
  },
  {
   "cell_type": "code",
   "execution_count": 18,
   "metadata": {
    "ExecuteTime": {
     "end_time": "2023-05-26T00:26:26.705098Z",
     "start_time": "2023-05-26T00:26:26.701453Z"
    },
    "collapsed": false
   },
   "outputs": [
    {
     "data": {
      "text/plain": [
       "tensor(0.0028)"
      ]
     },
     "execution_count": 18,
     "metadata": {},
     "output_type": "execute_result"
    }
   ],
   "source": [
    "torch.min(three_by_two_mat)"
   ]
  },
  {
   "cell_type": "code",
   "execution_count": 19,
   "metadata": {
    "ExecuteTime": {
     "end_time": "2023-05-26T00:26:35.052574Z",
     "start_time": "2023-05-26T00:26:35.048472Z"
    },
    "collapsed": false
   },
   "outputs": [
    {
     "data": {
      "text/plain": [
       "tensor(0.8996)"
      ]
     },
     "execution_count": 19,
     "metadata": {},
     "output_type": "execute_result"
    }
   ],
   "source": [
    "torch.max(three_by_two_mat)"
   ]
  },
  {
   "cell_type": "code",
   "execution_count": 20,
   "metadata": {
    "ExecuteTime": {
     "end_time": "2023-05-26T00:26:41.808144Z",
     "start_time": "2023-05-26T00:26:41.804067Z"
    },
    "collapsed": false
   },
   "outputs": [
    {
     "data": {
      "text/plain": [
       "tensor(0.5374)"
      ]
     },
     "execution_count": 20,
     "metadata": {},
     "output_type": "execute_result"
    }
   ],
   "source": [
    "torch.mean(three_by_two_mat)"
   ]
  },
  {
   "cell_type": "code",
   "execution_count": 21,
   "metadata": {
    "ExecuteTime": {
     "end_time": "2023-05-26T00:28:38.226559Z",
     "start_time": "2023-05-26T00:28:38.222689Z"
    },
    "collapsed": false
   },
   "outputs": [
    {
     "data": {
      "text/plain": [
       "tensor(3.2247)"
      ]
     },
     "execution_count": 21,
     "metadata": {},
     "output_type": "execute_result"
    }
   ],
   "source": [
    "three_by_two_mat.sum()"
   ]
  },
  {
   "cell_type": "code",
   "execution_count": 22,
   "metadata": {
    "ExecuteTime": {
     "end_time": "2023-05-26T00:32:03.697028Z",
     "start_time": "2023-05-26T00:32:03.691762Z"
    },
    "collapsed": false
   },
   "outputs": [
    {
     "data": {
      "text/plain": [
       "tensor([[0.3731, 0.8996],\n",
       "        [0.0028, 0.4122],\n",
       "        [0.7737, 0.7632]])"
      ]
     },
     "execution_count": 22,
     "metadata": {},
     "output_type": "execute_result"
    }
   ],
   "source": [
    "three_by_two_mat"
   ]
  },
  {
   "cell_type": "code",
   "execution_count": 23,
   "metadata": {
    "ExecuteTime": {
     "end_time": "2023-05-26T00:31:21.060108Z",
     "start_time": "2023-05-26T00:31:21.055891Z"
    },
    "collapsed": false
   },
   "outputs": [
    {
     "data": {
      "text/plain": [
       "tensor(2)"
      ]
     },
     "execution_count": 23,
     "metadata": {},
     "output_type": "execute_result"
    }
   ],
   "source": [
    "three_by_two_mat.argmin() # index in which the min is"
   ]
  },
  {
   "cell_type": "code",
   "execution_count": 24,
   "metadata": {
    "ExecuteTime": {
     "end_time": "2023-05-26T00:31:51.700170Z",
     "start_time": "2023-05-26T00:31:51.694614Z"
    },
    "collapsed": false
   },
   "outputs": [
    {
     "data": {
      "text/plain": [
       "tensor(1)"
      ]
     },
     "execution_count": 24,
     "metadata": {},
     "output_type": "execute_result"
    }
   ],
   "source": [
    "three_by_two_mat.argmax()"
   ]
  },
  {
   "cell_type": "markdown",
   "metadata": {
    "collapsed": false
   },
   "source": [
    "- reshape\n",
    "- view\n",
    "- stacking\n",
    "- squeeze\n",
    "- unsqueeze\n",
    "- permute"
   ]
  },
  {
   "cell_type": "code",
   "execution_count": 25,
   "metadata": {
    "ExecuteTime": {
     "end_time": "2023-05-26T00:38:15.741706Z",
     "start_time": "2023-05-26T00:38:15.738057Z"
    },
    "collapsed": false
   },
   "outputs": [
    {
     "data": {
      "text/plain": [
       "tensor([[0.3731, 0.8996],\n",
       "        [0.0028, 0.4122],\n",
       "        [0.7737, 0.7632]])"
      ]
     },
     "execution_count": 25,
     "metadata": {},
     "output_type": "execute_result"
    }
   ],
   "source": [
    "three_by_two_mat"
   ]
  },
  {
   "cell_type": "code",
   "execution_count": 26,
   "metadata": {
    "ExecuteTime": {
     "end_time": "2023-05-26T00:38:29.103292Z",
     "start_time": "2023-05-26T00:38:29.099543Z"
    },
    "collapsed": false
   },
   "outputs": [
    {
     "data": {
      "text/plain": [
       "tensor([[0.3731, 0.8996, 0.0028],\n",
       "        [0.4122, 0.7737, 0.7632]])"
      ]
     },
     "execution_count": 26,
     "metadata": {},
     "output_type": "execute_result"
    }
   ],
   "source": [
    "three_by_two_mat.reshape(2, 3) # not a transpose"
   ]
  },
  {
   "cell_type": "code",
   "execution_count": 27,
   "metadata": {
    "ExecuteTime": {
     "end_time": "2023-05-26T00:40:01.821171Z",
     "start_time": "2023-05-26T00:40:01.815802Z"
    },
    "collapsed": false
   },
   "outputs": [
    {
     "data": {
      "text/plain": [
       "tensor([[0.3731, 0.8996, 0.0028, 0.4122, 0.7737, 0.7632]])"
      ]
     },
     "execution_count": 27,
     "metadata": {},
     "output_type": "execute_result"
    }
   ],
   "source": [
    "three_by_two_mat.reshape(1, 6)"
   ]
  },
  {
   "cell_type": "code",
   "execution_count": 28,
   "metadata": {
    "ExecuteTime": {
     "end_time": "2023-05-26T00:42:56.110797Z",
     "start_time": "2023-05-26T00:42:56.105982Z"
    },
    "collapsed": false
   },
   "outputs": [
    {
     "data": {
      "text/plain": [
       "tensor([[0.3731, 0.8996],\n",
       "        [0.0028, 0.4122],\n",
       "        [0.7737, 0.7632]])"
      ]
     },
     "execution_count": 28,
     "metadata": {},
     "output_type": "execute_result"
    }
   ],
   "source": [
    "view = three_by_two_mat.view(3, 2)\n",
    "view"
   ]
  },
  {
   "cell_type": "code",
   "execution_count": 29,
   "metadata": {
    "ExecuteTime": {
     "end_time": "2023-05-26T00:42:56.869583Z",
     "start_time": "2023-05-26T00:42:56.864933Z"
    },
    "collapsed": false
   },
   "outputs": [
    {
     "data": {
      "text/plain": [
       "tensor([[0.0000, 0.8996],\n",
       "        [0.0028, 0.4122],\n",
       "        [0.7737, 0.7632]])"
      ]
     },
     "execution_count": 29,
     "metadata": {},
     "output_type": "execute_result"
    }
   ],
   "source": [
    "view[0][0] = 0\n",
    "view"
   ]
  },
  {
   "cell_type": "code",
   "execution_count": 30,
   "metadata": {
    "ExecuteTime": {
     "end_time": "2023-05-26T00:43:15.221452Z",
     "start_time": "2023-05-26T00:43:15.216970Z"
    },
    "collapsed": false
   },
   "outputs": [
    {
     "data": {
      "text/plain": [
       "tensor([[0.0000, 0.8996],\n",
       "        [0.0028, 0.4122],\n",
       "        [0.7737, 0.7632]])"
      ]
     },
     "execution_count": 30,
     "metadata": {},
     "output_type": "execute_result"
    }
   ],
   "source": [
    "three_by_two_mat # with a view, the original tensor is updated"
   ]
  },
  {
   "cell_type": "code",
   "execution_count": 31,
   "metadata": {
    "ExecuteTime": {
     "end_time": "2023-05-26T00:46:02.295046Z",
     "start_time": "2023-05-26T00:46:02.289108Z"
    },
    "collapsed": false
   },
   "outputs": [
    {
     "data": {
      "text/plain": [
       "tensor([[[0.0000, 0.8996],\n",
       "         [0.0000, 0.8996]],\n",
       "\n",
       "        [[0.0028, 0.4122],\n",
       "         [0.0028, 0.4122]],\n",
       "\n",
       "        [[0.7737, 0.7632],\n",
       "         [0.7737, 0.7632]]])"
      ]
     },
     "execution_count": 31,
     "metadata": {},
     "output_type": "execute_result"
    }
   ],
   "source": [
    "torch.stack([three_by_two_mat, three_by_two_mat], dim=1)"
   ]
  },
  {
   "cell_type": "code",
   "execution_count": 32,
   "metadata": {
    "ExecuteTime": {
     "end_time": "2023-05-26T00:47:36.827865Z",
     "start_time": "2023-05-26T00:47:36.822056Z"
    },
    "collapsed": false
   },
   "outputs": [
    {
     "data": {
      "text/plain": [
       "tensor([[0.0000, 0.8996],\n",
       "        [0.0028, 0.4122],\n",
       "        [0.7737, 0.7632]])"
      ]
     },
     "execution_count": 32,
     "metadata": {},
     "output_type": "execute_result"
    }
   ],
   "source": [
    "three_by_two_mat"
   ]
  },
  {
   "cell_type": "code",
   "execution_count": 33,
   "metadata": {
    "ExecuteTime": {
     "end_time": "2023-05-26T00:47:51.864192Z",
     "start_time": "2023-05-26T00:47:51.853989Z"
    },
    "collapsed": false
   },
   "outputs": [
    {
     "data": {
      "text/plain": [
       "tensor([[0.0000, 0.8996],\n",
       "        [0.0028, 0.4122],\n",
       "        [0.7737, 0.7632]])"
      ]
     },
     "execution_count": 33,
     "metadata": {},
     "output_type": "execute_result"
    }
   ],
   "source": [
    "three_by_two_mat.squeeze()"
   ]
  },
  {
   "cell_type": "code",
   "execution_count": 34,
   "metadata": {
    "ExecuteTime": {
     "end_time": "2023-05-26T00:50:11.985875Z",
     "start_time": "2023-05-26T00:50:11.982004Z"
    },
    "collapsed": false
   },
   "outputs": [
    {
     "data": {
      "text/plain": [
       "tensor([[[0.0000, 0.8996, 0.0028],\n",
       "         [0.4122, 0.7737, 0.7632]]])"
      ]
     },
     "execution_count": 34,
     "metadata": {},
     "output_type": "execute_result"
    }
   ],
   "source": [
    "one_more_dim = three_by_two_mat.reshape(1, 2, 3)\n",
    "one_more_dim"
   ]
  },
  {
   "cell_type": "code",
   "execution_count": 35,
   "metadata": {
    "ExecuteTime": {
     "end_time": "2023-05-26T00:50:18.294385Z",
     "start_time": "2023-05-26T00:50:18.289398Z"
    },
    "collapsed": false
   },
   "outputs": [
    {
     "data": {
      "text/plain": [
       "tensor([[0.0000, 0.8996, 0.0028],\n",
       "        [0.4122, 0.7737, 0.7632]])"
      ]
     },
     "execution_count": 35,
     "metadata": {},
     "output_type": "execute_result"
    }
   ],
   "source": [
    "one_more_dim.squeeze()"
   ]
  },
  {
   "cell_type": "code",
   "execution_count": 36,
   "metadata": {
    "ExecuteTime": {
     "end_time": "2023-05-26T00:50:47.585047Z",
     "start_time": "2023-05-26T00:50:47.580177Z"
    },
    "collapsed": false
   },
   "outputs": [
    {
     "data": {
      "text/plain": [
       "tensor([[[[0.0000, 0.8996, 0.0028],\n",
       "          [0.4122, 0.7737, 0.7632]]]])"
      ]
     },
     "execution_count": 36,
     "metadata": {},
     "output_type": "execute_result"
    }
   ],
   "source": [
    "two_more_dim = three_by_two_mat.reshape(1, 1, 2, 3)\n",
    "two_more_dim"
   ]
  },
  {
   "cell_type": "code",
   "execution_count": 37,
   "metadata": {
    "ExecuteTime": {
     "end_time": "2023-05-26T00:50:53.150751Z",
     "start_time": "2023-05-26T00:50:53.139891Z"
    },
    "collapsed": false
   },
   "outputs": [
    {
     "data": {
      "text/plain": [
       "tensor([[0.0000, 0.8996, 0.0028],\n",
       "        [0.4122, 0.7737, 0.7632]])"
      ]
     },
     "execution_count": 37,
     "metadata": {},
     "output_type": "execute_result"
    }
   ],
   "source": [
    "two_more_dim.squeeze()"
   ]
  },
  {
   "cell_type": "code",
   "execution_count": null,
   "metadata": {},
   "outputs": [],
   "source": []
  },
  {
   "cell_type": "code",
   "execution_count": null,
   "metadata": {
    "collapsed": false
   },
   "outputs": [],
   "source": []
  }
 ],
 "metadata": {
  "kernelspec": {
   "display_name": "Python 3",
   "language": "python",
   "name": "python3"
  },
  "language_info": {
   "codemirror_mode": {
    "name": "ipython",
    "version": 3
   },
   "file_extension": ".py",
   "mimetype": "text/x-python",
   "name": "python",
   "nbconvert_exporter": "python",
   "pygments_lexer": "ipython3",
   "version": "3.11.4"
  }
 },
 "nbformat": 4,
 "nbformat_minor": 0
}
